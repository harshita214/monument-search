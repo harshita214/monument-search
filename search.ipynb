{
  "nbformat": 4,
  "nbformat_minor": 0,
  "metadata": {
    "colab": {
      "name": "search.ipynb",
      "provenance": [],
      "collapsed_sections": [],
      "mount_file_id": "https://github.com/harshita214/monument-search/blob/main/search.ipynb",
      "authorship_tag": "ABX9TyOOs/zmSOfdffsqbHeZjgH0",
      "include_colab_link": true
    },
    "kernelspec": {
      "name": "python3",
      "display_name": "Python 3"
    },
    "language_info": {
      "name": "python"
    },
    "widgets": {
      "application/vnd.jupyter.widget-state+json": {
        "a0c53d8d9c434530a97401fdb30e7b28": {
          "model_module": "@jupyter-widgets/output",
          "model_name": "OutputModel",
          "model_module_version": "1.0.0",
          "state": {
            "_view_name": "OutputView",
            "msg_id": "",
            "_dom_classes": [],
            "_model_name": "OutputModel",
            "outputs": [
              {
                "output_type": "display_data",
                "data": {
                  "text/html": "<pre style=\"white-space:pre;overflow-x:auto;line-height:normal;font-family:Menlo,'DejaVu Sans Mono',consolas,'Courier New',monospace\"><span style=\"color: #008000; text-decoration-color: #008000\">⠴</span> Unpacking TransformerTorchEncoder ...\n</pre>\n",
                  "text/plain": "\u001b[32m⠴\u001b[0m Unpacking TransformerTorchEncoder ...\n"
                },
                "metadata": {}
              }
            ],
            "_view_module": "@jupyter-widgets/output",
            "_model_module_version": "1.0.0",
            "_view_count": null,
            "_view_module_version": "1.0.0",
            "layout": "IPY_MODEL_715681a94ab64e75b44ebc2c8a7d0f27",
            "_model_module": "@jupyter-widgets/output"
          }
        },
        "715681a94ab64e75b44ebc2c8a7d0f27": {
          "model_module": "@jupyter-widgets/base",
          "model_name": "LayoutModel",
          "model_module_version": "1.2.0",
          "state": {
            "_view_name": "LayoutView",
            "grid_template_rows": null,
            "right": null,
            "justify_content": null,
            "_view_module": "@jupyter-widgets/base",
            "overflow": null,
            "_model_module_version": "1.2.0",
            "_view_count": null,
            "flex_flow": null,
            "width": null,
            "min_width": null,
            "border": null,
            "align_items": null,
            "bottom": null,
            "_model_module": "@jupyter-widgets/base",
            "top": null,
            "grid_column": null,
            "overflow_y": null,
            "overflow_x": null,
            "grid_auto_flow": null,
            "grid_area": null,
            "grid_template_columns": null,
            "flex": null,
            "_model_name": "LayoutModel",
            "justify_items": null,
            "grid_row": null,
            "max_height": null,
            "align_content": null,
            "visibility": null,
            "align_self": null,
            "height": null,
            "min_height": null,
            "padding": null,
            "grid_auto_rows": null,
            "grid_gap": null,
            "max_width": null,
            "order": null,
            "_view_module_version": "1.2.0",
            "grid_template_areas": null,
            "object_position": null,
            "object_fit": null,
            "grid_auto_columns": null,
            "margin": null,
            "display": null,
            "left": null
          }
        },
        "3f3458c545994f4c9e88beb60ffc4951": {
          "model_module": "@jupyter-widgets/output",
          "model_name": "OutputModel",
          "model_module_version": "1.0.0",
          "state": {
            "_view_name": "OutputView",
            "msg_id": "",
            "_dom_classes": [],
            "_model_name": "OutputModel",
            "outputs": [
              {
                "output_type": "display_data",
                "data": {
                  "text/html": "<pre style=\"white-space:pre;overflow-x:auto;line-height:normal;font-family:Menlo,'DejaVu Sans Mono',consolas,'Courier New',monospace\"><span style=\"color: #008000; text-decoration-color: #008000\">⠧</span> Downloading SimpleIndexer ...\n</pre>\n",
                  "text/plain": "\u001b[32m⠧\u001b[0m Downloading SimpleIndexer ...\n"
                },
                "metadata": {}
              }
            ],
            "_view_module": "@jupyter-widgets/output",
            "_model_module_version": "1.0.0",
            "_view_count": null,
            "_view_module_version": "1.0.0",
            "layout": "IPY_MODEL_d471906a764249a19ece447fe91b3f10",
            "_model_module": "@jupyter-widgets/output"
          }
        },
        "d471906a764249a19ece447fe91b3f10": {
          "model_module": "@jupyter-widgets/base",
          "model_name": "LayoutModel",
          "model_module_version": "1.2.0",
          "state": {
            "_view_name": "LayoutView",
            "grid_template_rows": null,
            "right": null,
            "justify_content": null,
            "_view_module": "@jupyter-widgets/base",
            "overflow": null,
            "_model_module_version": "1.2.0",
            "_view_count": null,
            "flex_flow": null,
            "width": null,
            "min_width": null,
            "border": null,
            "align_items": null,
            "bottom": null,
            "_model_module": "@jupyter-widgets/base",
            "top": null,
            "grid_column": null,
            "overflow_y": null,
            "overflow_x": null,
            "grid_auto_flow": null,
            "grid_area": null,
            "grid_template_columns": null,
            "flex": null,
            "_model_name": "LayoutModel",
            "justify_items": null,
            "grid_row": null,
            "max_height": null,
            "align_content": null,
            "visibility": null,
            "align_self": null,
            "height": null,
            "min_height": null,
            "padding": null,
            "grid_auto_rows": null,
            "grid_gap": null,
            "max_width": null,
            "order": null,
            "_view_module_version": "1.2.0",
            "grid_template_areas": null,
            "object_position": null,
            "object_fit": null,
            "grid_auto_columns": null,
            "margin": null,
            "display": null,
            "left": null
          }
        }
      }
    }
  },
  "cells": [
    {
      "cell_type": "markdown",
      "metadata": {
        "id": "view-in-github",
        "colab_type": "text"
      },
      "source": [
        "<a href=\"https://colab.research.google.com/github/harshita214/monument-search/blob/main/search.ipynb\" target=\"_parent\"><img src=\"https://colab.research.google.com/assets/colab-badge.svg\" alt=\"Open In Colab\"/></a>"
      ]
    },
    {
      "cell_type": "code",
      "execution_count": null,
      "metadata": {
        "id": "emH-a0b_d4UH"
      },
      "outputs": [],
      "source": [
        "! pip install jina\n"
      ]
    },
    {
      "cell_type": "code",
      "source": [
        "from jina import Document, DocumentArray, Flow\n",
        "docs = DocumentArray.from_files('/content/drive/MyDrive/Types.csv')\n",
        "\n"
      ],
      "metadata": {
        "id": "yyxkAIQrec3u"
      },
      "execution_count": 4,
      "outputs": []
    },
    {
      "cell_type": "code",
      "source": [
        "from google.colab import drive\n",
        "drive.mount('/content/drive')"
      ],
      "metadata": {
        "id": "Ayqk5LgykOF5",
        "outputId": "f358fb35-653e-4ff4-fe97-157d1f60d7b1",
        "colab": {
          "base_uri": "https://localhost:8080/"
        }
      },
      "execution_count": 1,
      "outputs": [
        {
          "output_type": "stream",
          "name": "stdout",
          "text": [
            "Mounted at /content/drive\n"
          ]
        }
      ]
    },
    {
      "cell_type": "code",
      "source": [
        "flow = (\n",
        "    Flow()\n",
        "    # Add encoder, to convert text to vector embeddings\n",
        "    .add(uses=\"jinahub://TransformerTorchEncoder\", name=\"encoder\", install_requirements=True)\n",
        "    # Add indexer\n",
        "    # When indexing it embeds embeddings in a graph\n",
        "    # When searching it retrieves nearest neighbor to search term\n",
        "    .add(uses=\"jinahub://SimpleIndexer\", install_requirements=True, name=\"indexer\")\n",
        ")\n",
        "\n",
        "# Open Flow as context manager\n",
        "with flow:\n",
        "    # Index our DocumentArray of Squid Game Documents\n",
        "    flow.index(inputs=docs)\n",
        "    # Create a Document containing our search term. In this case, we take it from user's input\n",
        "    query = Document(text=input(\"Please enter your search term: \"))\n",
        "    # Search the index, return similar matches, and store in `response`\n",
        "    response = flow.search(inputs=query, return_results=True)\n",
        "\n",
        "# Pull out the matches from all the other data in the response\n",
        "matches = response[0].data.docs[0].matches\n",
        "\n",
        "print(\"Your search results\")\n",
        "print(\"-------------------\\n\")\n",
        "\n",
        "for match in matches:\n",
        "    # Print the text of each match (from `Document.text`)\n",
        "    print(f\"- {match.text}\")\n",
        "    print(match.embedding)"
      ],
      "metadata": {
        "colab": {
          "base_uri": "https://localhost:8080/",
          "height": 659,
          "referenced_widgets": [
            "a0c53d8d9c434530a97401fdb30e7b28",
            "715681a94ab64e75b44ebc2c8a7d0f27",
            "3f3458c545994f4c9e88beb60ffc4951",
            "d471906a764249a19ece447fe91b3f10"
          ]
        },
        "id": "EqVFwLOGfPNp",
        "outputId": "4fe6b1f8-cedf-4bd1-c902-5a22d1f8eb8c"
      },
      "execution_count": 5,
      "outputs": [
        {
          "output_type": "display_data",
          "data": {
            "application/vnd.jupyter.widget-view+json": {
              "model_id": "a0c53d8d9c434530a97401fdb30e7b28",
              "version_minor": 0,
              "version_major": 2
            },
            "text/plain": [
              "Output()"
            ]
          },
          "metadata": {}
        },
        {
          "output_type": "display_data",
          "data": {
            "text/html": [
              "<pre style=\"white-space:pre;overflow-x:auto;line-height:normal;font-family:Menlo,'DejaVu Sans Mono',consolas,'Courier New',monospace\"></pre>\n"
            ],
            "text/plain": [
              ""
            ]
          },
          "metadata": {}
        },
        {
          "output_type": "display_data",
          "data": {
            "application/vnd.jupyter.widget-view+json": {
              "model_id": "3f3458c545994f4c9e88beb60ffc4951",
              "version_minor": 0,
              "version_major": 2
            },
            "text/plain": [
              "Output()"
            ]
          },
          "metadata": {}
        },
        {
          "output_type": "display_data",
          "data": {
            "text/html": [
              "<pre style=\"white-space:pre;overflow-x:auto;line-height:normal;font-family:Menlo,'DejaVu Sans Mono',consolas,'Courier New',monospace\"></pre>\n"
            ],
            "text/plain": [
              ""
            ]
          },
          "metadata": {}
        },
        {
          "output_type": "stream",
          "name": "stdout",
          "text": [
            "           Flow@62[I]:\u001b[32m🎉 Flow is ready to use!\u001b[0m\n",
            "\t🔗 Protocol: \t\t\u001b[1mGRPC\u001b[0m\n",
            "\t🏠 Local access:\t\u001b[4m\u001b[36m0.0.0.0:37631\u001b[0m\n",
            "\t🔒 Private network:\t\u001b[4m\u001b[36m172.28.0.2:37631\u001b[0m\n",
            "\t🌐 Public address:\t\u001b[4m\u001b[36m34.69.18.107:37631\u001b[0m\u001b[0m\n",
            "Please enter your search term: Amber\n",
            "\u001b[31m        indexer@375[E]:TypeError(\"can not determine the array type: ['builtins'].NoneType\")\n",
            " add \"--quiet-error\" to suppress the exception details\u001b[0m\n",
            "Traceback (most recent call last):\n",
            "  File \"/usr/local/lib/python3.7/dist-packages/jina/peapods/runtimes/zmq/zed.py\", line 285, in _msg_callback\n",
            "    processed_msg = self._callback(msg)\n",
            "  File \"/usr/local/lib/python3.7/dist-packages/jina/peapods/runtimes/zmq/zed.py\", line 271, in _callback\n",
            "    msg = self._post_hook(self._handle(self._pre_hook(msg)))\n",
            "  File \"/usr/local/lib/python3.7/dist-packages/jina/peapods/runtimes/zmq/zed.py\", line 226, in _handle\n",
            "    peapod_name=self.name,\n",
            "  File \"/usr/local/lib/python3.7/dist-packages/jina/peapods/runtimes/request_handlers/data_request_handler.py\", line 171, in handle\n",
            "    field='groundtruths',\n",
            "  File \"/usr/local/lib/python3.7/dist-packages/jina/executors/__init__.py\", line 200, in __call__\n",
            "    self, **kwargs\n",
            "  File \"/usr/local/lib/python3.7/dist-packages/jina/executors/decorators.py\", line 106, in arg_wrapper\n",
            "    return fn(*args, **kwargs)\n",
            "  File \"/root/.jina/hub-packages/zb38xlt4/executor.py\", line 100, in search\n",
            "    left_trav_docs.match(right_trav_docs, **match_args)\n",
            "  File \"/usr/local/lib/python3.7/dist-packages/docarray/array/mixins/match.py\", line 145, in match\n",
            "    dist, idx = lhv._match(rhv, cdist, _limit, normalization, metric_name)\n",
            "  File \"/usr/local/lib/python3.7/dist-packages/docarray/array/mixins/match.py\", line 200, in _match\n",
            "    dists = cdist(x_mat, y_mat, metric_name)\n",
            "  File \"/usr/local/lib/python3.7/dist-packages/docarray/array/mixins/match.py\", line 131, in <lambda>\n",
            "    cdist = lambda *x: _cdist(*x, device=device)\n",
            "  File \"/usr/local/lib/python3.7/dist-packages/docarray/math/distance/__init__.py\", line 38, in cdist\n",
            "    y_type = get_array_type(y_mat)\n",
            "  File \"/usr/local/lib/python3.7/dist-packages/docarray/ndarray/__init__.py\", line 346, in get_array_type\n",
            "    raise TypeError(f'can not determine the array type: {module_tags}.{class_name}')\n",
            "TypeError: can not determine the array type: ['builtins'].NoneType\n",
            "Your search results\n",
            "-------------------\n",
            "\n"
          ]
        }
      ]
    }
  ]
}