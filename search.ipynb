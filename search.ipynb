{
  "nbformat": 4,
  "nbformat_minor": 0,
  "metadata": {
    "colab": {
      "name": "search.ipynb",
      "provenance": [],
      "collapsed_sections": [],
      "authorship_tag": "ABX9TyP6zRyoSpBZqDISCnMccF2F",
      "include_colab_link": true
    },
    "kernelspec": {
      "name": "python3",
      "display_name": "Python 3"
    },
    "language_info": {
      "name": "python"
    },
    "widgets": {
      "application/vnd.jupyter.widget-state+json": {
        "fbda2b940dae481b9a88bf5441ccd3ea": {
          "model_module": "@jupyter-widgets/output",
          "model_name": "OutputModel",
          "model_module_version": "1.0.0",
          "state": {
            "_view_name": "OutputView",
            "msg_id": "",
            "_dom_classes": [],
            "_model_name": "OutputModel",
            "outputs": [
              {
                "output_type": "display_data",
                "data": {
                  "text/html": "<pre style=\"white-space:pre;overflow-x:auto;line-height:normal;font-family:Menlo,'DejaVu Sans Mono',consolas,'Courier New',monospace\"><span style=\"color: #008000; text-decoration-color: #008000\">⠸</span> Installing <span style=\"font-weight: bold\">requirements.txt</span>...\n</pre>\n",
                  "text/plain": "\u001b[32m⠸\u001b[0m Installing \u001b[1mrequirements.txt\u001b[0m...\n"
                },
                "metadata": {}
              }
            ],
            "_view_module": "@jupyter-widgets/output",
            "_model_module_version": "1.0.0",
            "_view_count": null,
            "_view_module_version": "1.0.0",
            "layout": "IPY_MODEL_ddfa6586a98949cd9d3070afbbf4af9d",
            "_model_module": "@jupyter-widgets/output"
          }
        },
        "ddfa6586a98949cd9d3070afbbf4af9d": {
          "model_module": "@jupyter-widgets/base",
          "model_name": "LayoutModel",
          "model_module_version": "1.2.0",
          "state": {
            "_view_name": "LayoutView",
            "grid_template_rows": null,
            "right": null,
            "justify_content": null,
            "_view_module": "@jupyter-widgets/base",
            "overflow": null,
            "_model_module_version": "1.2.0",
            "_view_count": null,
            "flex_flow": null,
            "width": null,
            "min_width": null,
            "border": null,
            "align_items": null,
            "bottom": null,
            "_model_module": "@jupyter-widgets/base",
            "top": null,
            "grid_column": null,
            "overflow_y": null,
            "overflow_x": null,
            "grid_auto_flow": null,
            "grid_area": null,
            "grid_template_columns": null,
            "flex": null,
            "_model_name": "LayoutModel",
            "justify_items": null,
            "grid_row": null,
            "max_height": null,
            "align_content": null,
            "visibility": null,
            "align_self": null,
            "height": null,
            "min_height": null,
            "padding": null,
            "grid_auto_rows": null,
            "grid_gap": null,
            "max_width": null,
            "order": null,
            "_view_module_version": "1.2.0",
            "grid_template_areas": null,
            "object_position": null,
            "object_fit": null,
            "grid_auto_columns": null,
            "margin": null,
            "display": null,
            "left": null
          }
        }
      }
    }
  },
  "cells": [
    {
      "cell_type": "markdown",
      "metadata": {
        "id": "view-in-github",
        "colab_type": "text"
      },
      "source": [
        "<a href=\"https://colab.research.google.com/github/harshita214/monument-search/blob/main/search.ipynb\" target=\"_parent\"><img src=\"https://colab.research.google.com/assets/colab-badge.svg\" alt=\"Open In Colab\"/></a>"
      ]
    },
    {
      "cell_type": "code",
      "execution_count": 6,
      "metadata": {
        "colab": {
          "base_uri": "https://localhost:8080/"
        },
        "id": "emH-a0b_d4UH",
        "outputId": "5f90b86a-ba1d-4d3f-ff41-47f2f1bcc6c9"
      },
      "outputs": [
        {
          "output_type": "stream",
          "name": "stdout",
          "text": [
            "Requirement already satisfied: jina in /usr/local/lib/python3.7/dist-packages (2.6.3)\n",
            "Requirement already satisfied: tornado>=5.1.0 in /usr/local/lib/python3.7/dist-packages (from jina) (5.1.1)\n",
            "Requirement already satisfied: aiostream in /usr/local/lib/python3.7/dist-packages (from jina) (0.4.4)\n",
            "Requirement already satisfied: docker in /usr/local/lib/python3.7/dist-packages (from jina) (5.0.3)\n",
            "Requirement already satisfied: websockets in /usr/local/lib/python3.7/dist-packages (from jina) (10.1)\n",
            "Requirement already satisfied: lz4<3.1.2 in /usr/local/lib/python3.7/dist-packages (from jina) (3.1.1)\n",
            "Requirement already satisfied: pathspec in /usr/local/lib/python3.7/dist-packages (from jina) (0.9.0)\n",
            "Requirement already satisfied: protobuf>=3.13.0 in /usr/local/lib/python3.7/dist-packages (from jina) (3.17.3)\n",
            "Requirement already satisfied: pyyaml>=5.3.1 in /usr/local/lib/python3.7/dist-packages (from jina) (6.0)\n",
            "Requirement already satisfied: grpcio>=1.33.1 in /usr/local/lib/python3.7/dist-packages (from jina) (1.42.0)\n",
            "Requirement already satisfied: uvloop in /usr/local/lib/python3.7/dist-packages (from jina) (0.16.0)\n",
            "Requirement already satisfied: aiohttp in /usr/local/lib/python3.7/dist-packages (from jina) (3.8.1)\n",
            "Requirement already satisfied: python-multipart in /usr/local/lib/python3.7/dist-packages (from jina) (0.0.5)\n",
            "Requirement already satisfied: requests in /usr/local/lib/python3.7/dist-packages (from jina) (2.23.0)\n",
            "Requirement already satisfied: pyzmq>=17.1.0 in /usr/local/lib/python3.7/dist-packages (from jina) (22.3.0)\n",
            "Requirement already satisfied: uvicorn[standard]>=0.14.0 in /usr/local/lib/python3.7/dist-packages (from jina) (0.16.0)\n",
            "Requirement already satisfied: kubernetes>=18.20.0 in /usr/local/lib/python3.7/dist-packages (from jina) (21.7.0)\n",
            "Requirement already satisfied: aiofiles in /usr/local/lib/python3.7/dist-packages (from jina) (0.8.0)\n",
            "Requirement already satisfied: filelock in /usr/local/lib/python3.7/dist-packages (from jina) (3.4.0)\n",
            "Requirement already satisfied: rich in /usr/local/lib/python3.7/dist-packages (from jina) (10.16.2)\n",
            "Requirement already satisfied: fastapi in /usr/local/lib/python3.7/dist-packages (from jina) (0.70.1)\n",
            "Requirement already satisfied: pydantic in /usr/local/lib/python3.7/dist-packages (from jina) (1.9.0)\n",
            "Requirement already satisfied: cryptography in /usr/local/lib/python3.7/dist-packages (from jina) (36.0.1)\n",
            "Requirement already satisfied: numpy in /usr/local/lib/python3.7/dist-packages (from jina) (1.19.5)\n",
            "Requirement already satisfied: six>=1.5.2 in /usr/local/lib/python3.7/dist-packages (from grpcio>=1.33.1->jina) (1.15.0)\n",
            "Requirement already satisfied: websocket-client!=0.40.0,!=0.41.*,!=0.42.*,>=0.32.0 in /usr/local/lib/python3.7/dist-packages (from kubernetes>=18.20.0->jina) (1.2.3)\n",
            "Requirement already satisfied: requests-oauthlib in /usr/local/lib/python3.7/dist-packages (from kubernetes>=18.20.0->jina) (1.3.0)\n",
            "Requirement already satisfied: python-dateutil>=2.5.3 in /usr/local/lib/python3.7/dist-packages (from kubernetes>=18.20.0->jina) (2.8.2)\n",
            "Requirement already satisfied: setuptools>=21.0.0 in /usr/local/lib/python3.7/dist-packages (from kubernetes>=18.20.0->jina) (57.4.0)\n",
            "Requirement already satisfied: google-auth>=1.0.1 in /usr/local/lib/python3.7/dist-packages (from kubernetes>=18.20.0->jina) (1.35.0)\n",
            "Requirement already satisfied: urllib3>=1.24.2 in /usr/local/lib/python3.7/dist-packages (from kubernetes>=18.20.0->jina) (1.24.3)\n",
            "Requirement already satisfied: certifi>=14.05.14 in /usr/local/lib/python3.7/dist-packages (from kubernetes>=18.20.0->jina) (2021.10.8)\n",
            "Requirement already satisfied: pyasn1-modules>=0.2.1 in /usr/local/lib/python3.7/dist-packages (from google-auth>=1.0.1->kubernetes>=18.20.0->jina) (0.2.8)\n",
            "Requirement already satisfied: rsa<5,>=3.1.4 in /usr/local/lib/python3.7/dist-packages (from google-auth>=1.0.1->kubernetes>=18.20.0->jina) (4.8)\n",
            "Requirement already satisfied: cachetools<5.0,>=2.0.0 in /usr/local/lib/python3.7/dist-packages (from google-auth>=1.0.1->kubernetes>=18.20.0->jina) (4.2.4)\n",
            "Requirement already satisfied: pyasn1<0.5.0,>=0.4.6 in /usr/local/lib/python3.7/dist-packages (from pyasn1-modules>=0.2.1->google-auth>=1.0.1->kubernetes>=18.20.0->jina) (0.4.8)\n",
            "Requirement already satisfied: typing-extensions in /usr/local/lib/python3.7/dist-packages (from uvicorn[standard]>=0.14.0->jina) (3.10.0.2)\n",
            "Requirement already satisfied: h11>=0.8 in /usr/local/lib/python3.7/dist-packages (from uvicorn[standard]>=0.14.0->jina) (0.12.0)\n",
            "Requirement already satisfied: click>=7.0 in /usr/local/lib/python3.7/dist-packages (from uvicorn[standard]>=0.14.0->jina) (7.1.2)\n",
            "Requirement already satisfied: asgiref>=3.4.0 in /usr/local/lib/python3.7/dist-packages (from uvicorn[standard]>=0.14.0->jina) (3.4.1)\n",
            "Requirement already satisfied: python-dotenv>=0.13 in /usr/local/lib/python3.7/dist-packages (from uvicorn[standard]>=0.14.0->jina) (0.19.2)\n",
            "Requirement already satisfied: watchgod>=0.6 in /usr/local/lib/python3.7/dist-packages (from uvicorn[standard]>=0.14.0->jina) (0.7)\n",
            "Requirement already satisfied: httptools<0.4.0,>=0.2.0 in /usr/local/lib/python3.7/dist-packages (from uvicorn[standard]>=0.14.0->jina) (0.3.0)\n",
            "Requirement already satisfied: charset-normalizer<3.0,>=2.0 in /usr/local/lib/python3.7/dist-packages (from aiohttp->jina) (2.0.8)\n",
            "Requirement already satisfied: asynctest==0.13.0 in /usr/local/lib/python3.7/dist-packages (from aiohttp->jina) (0.13.0)\n",
            "Requirement already satisfied: aiosignal>=1.1.2 in /usr/local/lib/python3.7/dist-packages (from aiohttp->jina) (1.2.0)\n",
            "Requirement already satisfied: attrs>=17.3.0 in /usr/local/lib/python3.7/dist-packages (from aiohttp->jina) (21.2.0)\n",
            "Requirement already satisfied: multidict<7.0,>=4.5 in /usr/local/lib/python3.7/dist-packages (from aiohttp->jina) (5.2.0)\n",
            "Requirement already satisfied: async-timeout<5.0,>=4.0.0a3 in /usr/local/lib/python3.7/dist-packages (from aiohttp->jina) (4.0.2)\n",
            "Requirement already satisfied: yarl<2.0,>=1.0 in /usr/local/lib/python3.7/dist-packages (from aiohttp->jina) (1.7.2)\n",
            "Requirement already satisfied: frozenlist>=1.1.1 in /usr/local/lib/python3.7/dist-packages (from aiohttp->jina) (1.2.0)\n",
            "Requirement already satisfied: idna>=2.0 in /usr/local/lib/python3.7/dist-packages (from yarl<2.0,>=1.0->aiohttp->jina) (2.10)\n",
            "Requirement already satisfied: cffi>=1.12 in /usr/local/lib/python3.7/dist-packages (from cryptography->jina) (1.15.0)\n",
            "Requirement already satisfied: pycparser in /usr/local/lib/python3.7/dist-packages (from cffi>=1.12->cryptography->jina) (2.21)\n",
            "Requirement already satisfied: chardet<4,>=3.0.2 in /usr/local/lib/python3.7/dist-packages (from requests->jina) (3.0.4)\n",
            "Requirement already satisfied: starlette==0.16.0 in /usr/local/lib/python3.7/dist-packages (from fastapi->jina) (0.16.0)\n",
            "Requirement already satisfied: anyio<4,>=3.0.0 in /usr/local/lib/python3.7/dist-packages (from starlette==0.16.0->fastapi->jina) (3.4.0)\n",
            "Requirement already satisfied: sniffio>=1.1 in /usr/local/lib/python3.7/dist-packages (from anyio<4,>=3.0.0->starlette==0.16.0->fastapi->jina) (1.2.0)\n",
            "Requirement already satisfied: oauthlib>=3.0.0 in /usr/local/lib/python3.7/dist-packages (from requests-oauthlib->kubernetes>=18.20.0->jina) (3.1.1)\n",
            "Requirement already satisfied: commonmark<0.10.0,>=0.9.0 in /usr/local/lib/python3.7/dist-packages (from rich->jina) (0.9.1)\n",
            "Requirement already satisfied: pygments<3.0.0,>=2.6.0 in /usr/local/lib/python3.7/dist-packages (from rich->jina) (2.6.1)\n",
            "Requirement already satisfied: colorama<0.5.0,>=0.4.0 in /usr/local/lib/python3.7/dist-packages (from rich->jina) (0.4.4)\n"
          ]
        }
      ],
      "source": [
        "! pip install jina\n"
      ]
    },
    {
      "cell_type": "code",
      "source": [
        "! jina -vf\n"
      ],
      "metadata": {
        "colab": {
          "base_uri": "https://localhost:8080/"
        },
        "id": "V6r09DD-VpYR",
        "outputId": "e5172cb0-6d4b-481f-ae09-1c8ee7e12fe6"
      },
      "execution_count": 12,
      "outputs": [
        {
          "output_type": "stream",
          "name": "stdout",
          "text": [
            "- jina 2.6.3\n",
            "- docarray 0.0.3\n",
            "- jina-proto 0.1.0\n",
            "- jina-vcs-tag (unset)\n",
            "- libzmq 4.3.4\n",
            "- pyzmq 1.19.5\n",
            "- protobuf 3.17.3\n",
            "- proto-backend cpp\n",
            "- grpcio 1.42.0\n",
            "- pyyaml 6.0\n",
            "- python 3.7.12\n",
            "- platform Linux\n",
            "- platform-release 5.4.144+\n",
            "- platform-version #1 SMP Tue Dec 7 09:58:10 PST 2021\n",
            "- architecture x86_64\n",
            "- processor x86_64\n",
            "- uid 2485378613250\n",
            "- session-id 0ea11430-6ca2-11ec-be92-0242ac1c0002\n",
            "- uptime 2022-01-03T14:33:02.628624\n",
            "- ci-vendor (unset)\n",
            "* JINA_ARRAY_QUANT (unset)\n",
            "* JINA_CONTROL_PORT (unset)\n",
            "* JINA_DEFAULT_HOST (unset)\n",
            "* JINA_DEFAULT_TIMEOUT_CTRL (unset)\n",
            "* JINA_DISABLE_UVLOOP (unset)\n",
            "* JINA_FULL_CLI (unset)\n",
            "* JINA_HUBBLE_REGISTRY (unset)\n",
            "* JINA_HUB_CACHE_DIR (unset)\n",
            "* JINA_HUB_ROOT (unset)\n",
            "* JINA_K8S_USE_TEST_PIP (unset)\n",
            "* JINA_LOG_CONFIG (unset)\n",
            "* JINA_LOG_ID (unset)\n",
            "* JINA_LOG_LEVEL (unset)\n",
            "* JINA_LOG_NO_COLOR (unset)\n",
            "* JINA_LOG_WORKSPACE (unset)\n",
            "* JINA_MP_START_METHOD (unset)\n",
            "* JINA_OPTIMIZER_TRIAL_WORKSPACE(unset)\n",
            "* JINA_POD_NAME (unset)\n",
            "* JINA_RANDOM_PORT_MAX (unset)\n",
            "* JINA_RANDOM_PORT_MIN (unset)\n",
            "* JINA_VCS_VERSION (unset)\n"
          ]
        }
      ]
    },
    {
      "cell_type": "code",
      "source": [
        "from jina import Document, DocumentArray, Flow\n",
        "docs = DocumentArray.from_csv('/content/Types.csv')\n",
        "\n"
      ],
      "metadata": {
        "id": "yyxkAIQrec3u"
      },
      "execution_count": 28,
      "outputs": []
    },
    {
      "cell_type": "code",
      "source": [
        "flow = (\n",
        "    Flow()\n",
        "    # Add encoder, to convert text to vector embeddings\n",
        "    .add(uses=\"jinahub://TransformerTorchEncoder\", name=\"encoder\", install_requirements=True)\n",
        "    # Add indexer\n",
        "    # When indexing it embeds embeddings in a graph\n",
        "    # When searching it retrieves nearest neighbor to search term\n",
        "    .add(uses=\"jinahub://SimpleIndexer\", install_requirements=True, name=\"indexer\")\n",
        ")\n",
        "\n",
        "# Open Flow as context manager\n",
        "with flow:\n",
        "    # Index our DocumentArray of Squid Game Documents\n",
        "    flow.index(inputs=docs)\n",
        "    # Create a Document containing our search term. In this case, we take it from user's input\n",
        "    query = Document(text=input(\"Please enter your search term: \"))\n",
        "    # Search the index, return similar matches, and store in `response`\n",
        "    response = flow.search(inputs=query, return_results=True)\n",
        "\n",
        "# Pull out the matches from all the other data in the response\n",
        "matches = response[0].data.docs[0].matches\n",
        "\n",
        "print(\"Your search results\")\n",
        "print(\"-------------------\\n\")\n",
        "\n",
        "for match in matches:\n",
        "    # Print the text of each match (from `Document.text`)\n",
        "    print(f\"- {match.text}\")\n",
        "    print(match.embedding)"
      ],
      "metadata": {
        "colab": {
          "base_uri": "https://localhost:8080/",
          "height": 659,
          "referenced_widgets": [
            "fbda2b940dae481b9a88bf5441ccd3ea",
            "ddfa6586a98949cd9d3070afbbf4af9d"
          ]
        },
        "id": "EqVFwLOGfPNp",
        "outputId": "8637d5cc-de61-41dc-8b5e-3c892bcbaf25"
      },
      "execution_count": 33,
      "outputs": [
        {
          "output_type": "display_data",
          "data": {
            "application/vnd.jupyter.widget-view+json": {
              "model_id": "fbda2b940dae481b9a88bf5441ccd3ea",
              "version_minor": 0,
              "version_major": 2
            },
            "text/plain": [
              "Output()"
            ]
          },
          "metadata": {}
        },
        {
          "output_type": "display_data",
          "data": {
            "text/html": [
              "<pre style=\"white-space:pre;overflow-x:auto;line-height:normal;font-family:Menlo,'DejaVu Sans Mono',consolas,'Courier New',monospace\"></pre>\n"
            ],
            "text/plain": [
              ""
            ]
          },
          "metadata": {}
        },
        {
          "output_type": "display_data",
          "data": {
            "text/html": [
              "<pre style=\"white-space:pre;overflow-x:auto;line-height:normal;font-family:Menlo,'DejaVu Sans Mono',consolas,'Courier New',monospace\"></pre>\n"
            ],
            "text/plain": [
              ""
            ]
          },
          "metadata": {}
        },
        {
          "output_type": "stream",
          "name": "stdout",
          "text": [
            "           Flow@64[I]:\u001b[32m🎉 Flow is ready to use!\u001b[0m\n",
            "\t🔗 Protocol: \t\t\u001b[1mGRPC\u001b[0m\n",
            "\t🏠 Local access:\t\u001b[4m\u001b[36m0.0.0.0:56295\u001b[0m\n",
            "\t🔒 Private network:\t\u001b[4m\u001b[36m172.28.0.2:56295\u001b[0m\n",
            "\t🌐 Public address:\t\u001b[4m\u001b[36m35.247.20.127:56295\u001b[0m\u001b[0m\n",
            "Please enter your search term: GALTAJI\n",
            "\u001b[31m        indexer@1222[E]:TypeError(\"can not determine the array type: ['builtins'].NoneType\")\n",
            " add \"--quiet-error\" to suppress the exception details\u001b[0m\n",
            "Traceback (most recent call last):\n",
            "  File \"/usr/local/lib/python3.7/dist-packages/jina/peapods/runtimes/zmq/zed.py\", line 285, in _msg_callback\n",
            "    processed_msg = self._callback(msg)\n",
            "  File \"/usr/local/lib/python3.7/dist-packages/jina/peapods/runtimes/zmq/zed.py\", line 271, in _callback\n",
            "    msg = self._post_hook(self._handle(self._pre_hook(msg)))\n",
            "  File \"/usr/local/lib/python3.7/dist-packages/jina/peapods/runtimes/zmq/zed.py\", line 226, in _handle\n",
            "    peapod_name=self.name,\n",
            "  File \"/usr/local/lib/python3.7/dist-packages/jina/peapods/runtimes/request_handlers/data_request_handler.py\", line 171, in handle\n",
            "    field='groundtruths',\n",
            "  File \"/usr/local/lib/python3.7/dist-packages/jina/executors/__init__.py\", line 200, in __call__\n",
            "    self, **kwargs\n",
            "  File \"/usr/local/lib/python3.7/dist-packages/jina/executors/decorators.py\", line 106, in arg_wrapper\n",
            "    return fn(*args, **kwargs)\n",
            "  File \"/root/.jina/hub-packages/zb38xlt4/executor.py\", line 100, in search\n",
            "    left_trav_docs.match(right_trav_docs, **match_args)\n",
            "  File \"/usr/local/lib/python3.7/dist-packages/docarray/array/mixins/match.py\", line 145, in match\n",
            "    dist, idx = lhv._match(rhv, cdist, _limit, normalization, metric_name)\n",
            "  File \"/usr/local/lib/python3.7/dist-packages/docarray/array/mixins/match.py\", line 200, in _match\n",
            "    dists = cdist(x_mat, y_mat, metric_name)\n",
            "  File \"/usr/local/lib/python3.7/dist-packages/docarray/array/mixins/match.py\", line 131, in <lambda>\n",
            "    cdist = lambda *x: _cdist(*x, device=device)\n",
            "  File \"/usr/local/lib/python3.7/dist-packages/docarray/math/distance/__init__.py\", line 38, in cdist\n",
            "    y_type = get_array_type(y_mat)\n",
            "  File \"/usr/local/lib/python3.7/dist-packages/docarray/ndarray/__init__.py\", line 346, in get_array_type\n",
            "    raise TypeError(f'can not determine the array type: {module_tags}.{class_name}')\n",
            "TypeError: can not determine the array type: ['builtins'].NoneType\n",
            "Your search results\n",
            "-------------------\n",
            "\n"
          ]
        }
      ]
    }
  ]
}