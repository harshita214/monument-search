{
  "cells": [
    {
      "cell_type": "markdown",
      "metadata": {
        "id": "view-in-github",
        "colab_type": "text"
      },
      "source": [
        "<a href=\"https://colab.research.google.com/github/harshita214/monument-search/blob/main/Copy_of_search.ipynb\" target=\"_parent\"><img src=\"https://colab.research.google.com/assets/colab-badge.svg\" alt=\"Open In Colab\"/></a>"
      ]
    },
    {
      "cell_type": "code",
      "execution_count": null,
      "metadata": {
        "colab": {
          "base_uri": "https://localhost:8080/"
        },
        "id": "emH-a0b_d4UH",
        "outputId": "96221210-24f6-4872-e7bf-fc6b1be8254c"
      },
      "outputs": [
        {
          "name": "stdout",
          "output_type": "stream",
          "text": [
            "Successfully installed aiofiles-0.8.0 aiohttp-3.8.1 aiosignal-1.2.0 aiostream-0.4.4 anyio-3.5.0 asgiref-3.5.0 async-timeout-4.0.2 asynctest-0.13.0 colorama-0.4.4 commonmark-0.9.1 cryptography-36.0.1 docker-5.0.3 fastapi-0.73.0 frozenlist-1.3.0 h11-0.13.0 httptools-0.3.0 jina-2.6.4 kubernetes-21.7.0 lz4-3.1.1 multidict-6.0.2 pathspec-0.9.0 pydantic-1.9.0 python-dotenv-0.19.2 python-multipart-0.0.5 pyyaml-6.0 rich-11.1.0 sniffio-1.2.0 starlette-0.17.1 uvicorn-0.17.1 uvloop-0.16.0 watchgod-0.7 websocket-client-1.2.3 websockets-10.1 yarl-1.7.2\n"
          ]
        }
      ],
      "source": [
        "! pip install jina\n"
      ]
    },
    {
      "cell_type": "code",
      "execution_count": null,
      "metadata": {
        "id": "yyxkAIQrec3u"
      },
      "outputs": [],
      "source": [
        "from jina import Document, DocumentArray, Flow\n",
        "docs = DocumentArray.from_files('/content/drive/MyDrive/Types.csv')\n",
        "\n"
      ]
    },
    {
      "cell_type": "code",
      "execution_count": null,
      "metadata": {
        "colab": {
          "base_uri": "https://localhost:8080/"
        },
        "id": "Ayqk5LgykOF5",
        "outputId": "de3cb7f0-d367-4cd7-d884-da6980005dda"
      },
      "outputs": [
        {
          "name": "stdout",
          "output_type": "stream",
          "text": [
            "Mounted at /content/drive\n"
          ]
        }
      ],
      "source": [
        "from google.colab import drive\n",
        "drive.mount('/content/drive')"
      ]
    },
    {
      "cell_type": "code",
      "execution_count": null,
      "metadata": {
        "colab": {
          "background_save": true,
          "base_uri": "https://localhost:8080/",
          "height": 234
        },
        "id": "Kp3EVVBlE-5S",
        "outputId": "365f6430-d5b6-4f47-c62e-820e50ecfdd1"
      },
      "outputs": [
        {
          "ename": "NameError",
          "evalue": "ignored",
          "output_type": "error",
          "traceback": [
            "\u001b[0;31m---------------------------------------------------------------------------\u001b[0m",
            "\u001b[0;31mNameError\u001b[0m                                 Traceback (most recent call last)",
            "\u001b[0;32m<ipython-input-1-13e66bcb3a51>\u001b[0m in \u001b[0;36m<module>\u001b[0;34m()\u001b[0m\n\u001b[1;32m      1\u001b[0m \u001b[0;31m#  def input_docs_from_csv(file_path='/content/drive/MyDrive/Types.csv', max_docs=100, data_dir=DATA_DIR):\u001b[0m\u001b[0;34m\u001b[0m\u001b[0;34m\u001b[0m\u001b[0;34m\u001b[0m\u001b[0m\n\u001b[0;32m----> 2\u001b[0;31m \u001b[0mdocs\u001b[0m \u001b[0;34m=\u001b[0m \u001b[0mDocumentArray\u001b[0m\u001b[0;34m(\u001b[0m\u001b[0;34m)\u001b[0m\u001b[0;34m\u001b[0m\u001b[0;34m\u001b[0m\u001b[0m\n\u001b[0m\u001b[1;32m      3\u001b[0m \u001b[0;32mimport\u001b[0m \u001b[0mcsv\u001b[0m\u001b[0;34m\u001b[0m\u001b[0;34m\u001b[0m\u001b[0m\n\u001b[1;32m      4\u001b[0m \u001b[0;32mwith\u001b[0m \u001b[0mopen\u001b[0m\u001b[0;34m(\u001b[0m\u001b[0;34m'/content/drive/MyDrive/Types.csv'\u001b[0m\u001b[0;34m,\u001b[0m \u001b[0;34m\"r\"\u001b[0m\u001b[0;34m)\u001b[0m \u001b[0;32mas\u001b[0m \u001b[0mfile\u001b[0m\u001b[0;34m:\u001b[0m\u001b[0;34m\u001b[0m\u001b[0;34m\u001b[0m\u001b[0m\n\u001b[1;32m      5\u001b[0m   \u001b[0mreader\u001b[0m \u001b[0;34m=\u001b[0m \u001b[0mcsv\u001b[0m\u001b[0;34m.\u001b[0m\u001b[0mDictReader\u001b[0m\u001b[0;34m(\u001b[0m\u001b[0mfile\u001b[0m\u001b[0;34m)\u001b[0m\u001b[0;34m\u001b[0m\u001b[0;34m\u001b[0m\u001b[0m\n",
            "\u001b[0;31mNameError\u001b[0m: name 'DocumentArray' is not defined"
          ]
        }
      ],
      "source": [
        "#  def input_docs_from_csv(file_path='/content/drive/MyDrive/Types.csv', max_docs=100, data_dir=DATA_DIR):\n",
        "docs = DocumentArray()\n",
        "import csv\n",
        "with open('/content/drive/MyDrive/Types.csv', \"r\") as file:\n",
        "  reader = csv.DictReader(file)\n",
        "  docs = Document(text=row[\"POIs\"])\n",
        "  doc = Document(uri='/content/drive/MyDrive/Types.csv', tags=row)\n",
        "  docs.append(doc)\n",
        "\n"
      ]
    },
    {
      "cell_type": "code",
      "execution_count": null,
      "metadata": {
        "colab": {
          "base_uri": "https://localhost:8080/",
          "height": 659,
          "referenced_widgets": [
            "a0c53d8d9c434530a97401fdb30e7b28",
            "715681a94ab64e75b44ebc2c8a7d0f27",
            "3f3458c545994f4c9e88beb60ffc4951",
            "d471906a764249a19ece447fe91b3f10"
          ]
        },
        "id": "EqVFwLOGfPNp",
        "outputId": "4fe6b1f8-cedf-4bd1-c902-5a22d1f8eb8c"
      },
      "outputs": [
        {
          "data": {
            "application/vnd.jupyter.widget-view+json": {
              "model_id": "a0c53d8d9c434530a97401fdb30e7b28",
              "version_major": 2,
              "version_minor": 0
            },
            "text/plain": [
              "Output()"
            ]
          },
          "metadata": {},
          "output_type": "display_data"
        },
        {
          "data": {
            "text/html": [
              "<pre style=\"white-space:pre;overflow-x:auto;line-height:normal;font-family:Menlo,'DejaVu Sans Mono',consolas,'Courier New',monospace\"></pre>\n"
            ],
            "text/plain": [
              ""
            ]
          },
          "metadata": {},
          "output_type": "display_data"
        },
        {
          "data": {
            "application/vnd.jupyter.widget-view+json": {
              "model_id": "3f3458c545994f4c9e88beb60ffc4951",
              "version_major": 2,
              "version_minor": 0
            },
            "text/plain": [
              "Output()"
            ]
          },
          "metadata": {},
          "output_type": "display_data"
        },
        {
          "data": {
            "text/html": [
              "<pre style=\"white-space:pre;overflow-x:auto;line-height:normal;font-family:Menlo,'DejaVu Sans Mono',consolas,'Courier New',monospace\"></pre>\n"
            ],
            "text/plain": [
              ""
            ]
          },
          "metadata": {},
          "output_type": "display_data"
        },
        {
          "name": "stdout",
          "output_type": "stream",
          "text": [
            "           Flow@62[I]:\u001b[32m🎉 Flow is ready to use!\u001b[0m\n",
            "\t🔗 Protocol: \t\t\u001b[1mGRPC\u001b[0m\n",
            "\t🏠 Local access:\t\u001b[4m\u001b[36m0.0.0.0:37631\u001b[0m\n",
            "\t🔒 Private network:\t\u001b[4m\u001b[36m172.28.0.2:37631\u001b[0m\n",
            "\t🌐 Public address:\t\u001b[4m\u001b[36m34.69.18.107:37631\u001b[0m\u001b[0m\n",
            "Please enter your search term: Amber\n",
            "\u001b[31m        indexer@375[E]:TypeError(\"can not determine the array type: ['builtins'].NoneType\")\n",
            " add \"--quiet-error\" to suppress the exception details\u001b[0m\n",
            "Traceback (most recent call last):\n",
            "  File \"/usr/local/lib/python3.7/dist-packages/jina/peapods/runtimes/zmq/zed.py\", line 285, in _msg_callback\n",
            "    processed_msg = self._callback(msg)\n",
            "  File \"/usr/local/lib/python3.7/dist-packages/jina/peapods/runtimes/zmq/zed.py\", line 271, in _callback\n",
            "    msg = self._post_hook(self._handle(self._pre_hook(msg)))\n",
            "  File \"/usr/local/lib/python3.7/dist-packages/jina/peapods/runtimes/zmq/zed.py\", line 226, in _handle\n",
            "    peapod_name=self.name,\n",
            "  File \"/usr/local/lib/python3.7/dist-packages/jina/peapods/runtimes/request_handlers/data_request_handler.py\", line 171, in handle\n",
            "    field='groundtruths',\n",
            "  File \"/usr/local/lib/python3.7/dist-packages/jina/executors/__init__.py\", line 200, in __call__\n",
            "    self, **kwargs\n",
            "  File \"/usr/local/lib/python3.7/dist-packages/jina/executors/decorators.py\", line 106, in arg_wrapper\n",
            "    return fn(*args, **kwargs)\n",
            "  File \"/root/.jina/hub-packages/zb38xlt4/executor.py\", line 100, in search\n",
            "    left_trav_docs.match(right_trav_docs, **match_args)\n",
            "  File \"/usr/local/lib/python3.7/dist-packages/docarray/array/mixins/match.py\", line 145, in match\n",
            "    dist, idx = lhv._match(rhv, cdist, _limit, normalization, metric_name)\n",
            "  File \"/usr/local/lib/python3.7/dist-packages/docarray/array/mixins/match.py\", line 200, in _match\n",
            "    dists = cdist(x_mat, y_mat, metric_name)\n",
            "  File \"/usr/local/lib/python3.7/dist-packages/docarray/array/mixins/match.py\", line 131, in <lambda>\n",
            "    cdist = lambda *x: _cdist(*x, device=device)\n",
            "  File \"/usr/local/lib/python3.7/dist-packages/docarray/math/distance/__init__.py\", line 38, in cdist\n",
            "    y_type = get_array_type(y_mat)\n",
            "  File \"/usr/local/lib/python3.7/dist-packages/docarray/ndarray/__init__.py\", line 346, in get_array_type\n",
            "    raise TypeError(f'can not determine the array type: {module_tags}.{class_name}')\n",
            "TypeError: can not determine the array type: ['builtins'].NoneType\n",
            "Your search results\n",
            "-------------------\n",
            "\n"
          ]
        }
      ],
      "source": [
        "flow = (\n",
        "    Flow()\n",
        "    # Add encoder, to convert text to vector embeddings\n",
        "    .add(uses=\"jinahub://TransformerTorchEncoder\", name=\"encoder\", install_requirements=True)\n",
        "    # Add indexer\n",
        "    # When indexing it embeds embeddings in a graph\n",
        "    # When searching it retrieves nearest neighbor to search term\n",
        "    .add(uses=\"jinahub://SimpleIndexer\", install_requirements=True, name=\"indexer\")\n",
        ")\n",
        "\n",
        "# Open Flow as context manager\n",
        "with flow:\n",
        "    # Index our DocumentArray of Squid Game Documents\n",
        "    flow.index(inputs=docs)\n",
        "    # Create a Document containing our search term. In this case, we take it from user's input\n",
        "    query = Document(text=input(\"Please enter your search term: \"))\n",
        "    # Search the index, return similar matches, and store in `response`\n",
        "    response = flow.search(inputs=query, return_results=True)\n",
        "\n",
        "# Pull out the matches from all the other data in the response\n",
        "matches = response[0].data.docs[0].matches\n",
        "\n",
        "print(\"Your search results\")\n",
        "print(\"-------------------\\n\")\n",
        "\n",
        "for match in matches:\n",
        "    # Print the text of each match (from `Document.text`)\n",
        "    print(f\"- {match.text}\")\n",
        "    print(match.embedding)"
      ]
    }
  ],
  "metadata": {
    "colab": {
      "collapsed_sections": [],
      "name": "Copy of search.ipynb",
      "provenance": [],
      "mount_file_id": "https://github.com/harshita214/monument-search/blob/main/search.ipynb",
      "authorship_tag": "ABX9TyMi5Ok4QFX2+KqBEZwF3ljP",
      "include_colab_link": true
    },
    "kernelspec": {
      "display_name": "Python 3",
      "name": "python3"
    },
    "language_info": {
      "name": "python"
    },
    "widgets": {
      "application/vnd.jupyter.widget-state+json": {
        "3f3458c545994f4c9e88beb60ffc4951": {
          "model_module": "@jupyter-widgets/output",
          "model_module_version": "1.0.0",
          "model_name": "OutputModel",
          "state": {
            "_dom_classes": [],
            "_model_module": "@jupyter-widgets/output",
            "_model_module_version": "1.0.0",
            "_model_name": "OutputModel",
            "_view_count": null,
            "_view_module": "@jupyter-widgets/output",
            "_view_module_version": "1.0.0",
            "_view_name": "OutputView",
            "layout": "IPY_MODEL_d471906a764249a19ece447fe91b3f10",
            "msg_id": "",
            "outputs": [
              {
                "data": {
                  "text/html": "<pre style=\"white-space:pre;overflow-x:auto;line-height:normal;font-family:Menlo,'DejaVu Sans Mono',consolas,'Courier New',monospace\"><span style=\"color: #008000; text-decoration-color: #008000\">⠧</span> Downloading SimpleIndexer ...\n</pre>\n",
                  "text/plain": "\u001b[32m⠧\u001b[0m Downloading SimpleIndexer ...\n"
                },
                "metadata": {},
                "output_type": "display_data"
              }
            ]
          }
        },
        "715681a94ab64e75b44ebc2c8a7d0f27": {
          "model_module": "@jupyter-widgets/base",
          "model_module_version": "1.2.0",
          "model_name": "LayoutModel",
          "state": {
            "_model_module": "@jupyter-widgets/base",
            "_model_module_version": "1.2.0",
            "_model_name": "LayoutModel",
            "_view_count": null,
            "_view_module": "@jupyter-widgets/base",
            "_view_module_version": "1.2.0",
            "_view_name": "LayoutView",
            "align_content": null,
            "align_items": null,
            "align_self": null,
            "border": null,
            "bottom": null,
            "display": null,
            "flex": null,
            "flex_flow": null,
            "grid_area": null,
            "grid_auto_columns": null,
            "grid_auto_flow": null,
            "grid_auto_rows": null,
            "grid_column": null,
            "grid_gap": null,
            "grid_row": null,
            "grid_template_areas": null,
            "grid_template_columns": null,
            "grid_template_rows": null,
            "height": null,
            "justify_content": null,
            "justify_items": null,
            "left": null,
            "margin": null,
            "max_height": null,
            "max_width": null,
            "min_height": null,
            "min_width": null,
            "object_fit": null,
            "object_position": null,
            "order": null,
            "overflow": null,
            "overflow_x": null,
            "overflow_y": null,
            "padding": null,
            "right": null,
            "top": null,
            "visibility": null,
            "width": null
          }
        },
        "a0c53d8d9c434530a97401fdb30e7b28": {
          "model_module": "@jupyter-widgets/output",
          "model_module_version": "1.0.0",
          "model_name": "OutputModel",
          "state": {
            "_dom_classes": [],
            "_model_module": "@jupyter-widgets/output",
            "_model_module_version": "1.0.0",
            "_model_name": "OutputModel",
            "_view_count": null,
            "_view_module": "@jupyter-widgets/output",
            "_view_module_version": "1.0.0",
            "_view_name": "OutputView",
            "layout": "IPY_MODEL_715681a94ab64e75b44ebc2c8a7d0f27",
            "msg_id": "",
            "outputs": [
              {
                "data": {
                  "text/html": "<pre style=\"white-space:pre;overflow-x:auto;line-height:normal;font-family:Menlo,'DejaVu Sans Mono',consolas,'Courier New',monospace\"><span style=\"color: #008000; text-decoration-color: #008000\">⠴</span> Unpacking TransformerTorchEncoder ...\n</pre>\n",
                  "text/plain": "\u001b[32m⠴\u001b[0m Unpacking TransformerTorchEncoder ...\n"
                },
                "metadata": {},
                "output_type": "display_data"
              }
            ]
          }
        },
        "d471906a764249a19ece447fe91b3f10": {
          "model_module": "@jupyter-widgets/base",
          "model_module_version": "1.2.0",
          "model_name": "LayoutModel",
          "state": {
            "_model_module": "@jupyter-widgets/base",
            "_model_module_version": "1.2.0",
            "_model_name": "LayoutModel",
            "_view_count": null,
            "_view_module": "@jupyter-widgets/base",
            "_view_module_version": "1.2.0",
            "_view_name": "LayoutView",
            "align_content": null,
            "align_items": null,
            "align_self": null,
            "border": null,
            "bottom": null,
            "display": null,
            "flex": null,
            "flex_flow": null,
            "grid_area": null,
            "grid_auto_columns": null,
            "grid_auto_flow": null,
            "grid_auto_rows": null,
            "grid_column": null,
            "grid_gap": null,
            "grid_row": null,
            "grid_template_areas": null,
            "grid_template_columns": null,
            "grid_template_rows": null,
            "height": null,
            "justify_content": null,
            "justify_items": null,
            "left": null,
            "margin": null,
            "max_height": null,
            "max_width": null,
            "min_height": null,
            "min_width": null,
            "object_fit": null,
            "object_position": null,
            "order": null,
            "overflow": null,
            "overflow_x": null,
            "overflow_y": null,
            "padding": null,
            "right": null,
            "top": null,
            "visibility": null,
            "width": null
          }
        }
      }
    }
  },
  "nbformat": 4,
  "nbformat_minor": 0
}